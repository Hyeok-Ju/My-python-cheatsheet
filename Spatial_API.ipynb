{
 "cells": [
  {
   "cell_type": "markdown",
   "metadata": {},
   "source": [
    "### Google\n",
    "- 기능 : geocode(keyword), reverse geocode\n",
    "- 대한민국에는 google map platform에서 geocode 밖에 사용할만게 없다. direction(route)도 미지원이여서... \n",
    "- google map platform <https://mapsplatform.google.com/>\n",
    "<br></br>\n",
    "- 가격 정책 : 처음 사용자는 300달러의 무료 크레딧을 주고, 이후 카드 등록을 해놓으면 매달 200달러의 무료 크레딧으로 사용자가 원하는 기능을 한도내에서 사용하면,따로 과금은 되지 않는다(geocode : 1회 0.005달러, 1000회 5달러)."
   ]
  },
  {
   "cell_type": "markdown",
   "metadata": {},
   "source": [
    "```Python 예제```"
   ]
  },
  {
   "cell_type": "markdown",
   "metadata": {},
   "source": [
    "```- geocode```"
   ]
  },
  {
   "cell_type": "code",
   "execution_count": 1,
   "metadata": {},
   "outputs": [],
   "source": [
    "import googlemaps \n",
    "\n",
    "def google_geocode(place):\n",
    "    gmaps = googlemaps.Client(key='your-api-key')\n",
    "    geocode_result = gmaps.geocode(place, language='ko')\n",
    "    \n",
    "    return geocode_result[0]['geometry']['location']"
   ]
  },
  {
   "cell_type": "code",
   "execution_count": 12,
   "metadata": {},
   "outputs": [
    {
     "name": "stdout",
     "output_type": "stream",
     "text": [
      "{'lat': 36.3544294, 'lng': 127.4227297}\n"
     ]
    }
   ],
   "source": [
    "place = '대전광역시 대덕구 한남로 70'\n",
    "location = google_geocode(place)\n",
    "\n",
    "print(location)"
   ]
  },
  {
   "cell_type": "markdown",
   "metadata": {},
   "source": [
    "```- reverse geocode```"
   ]
  },
  {
   "cell_type": "code",
   "execution_count": 2,
   "metadata": {},
   "outputs": [],
   "source": [
    "import googlemaps \n",
    "\n",
    "### reverse geocode 주소를 넣으면, 후보지를 뽑아줌 -> 후보지는 세부주소,구,군,시 규모 별 규모 별로 반환해줌\n",
    "# 반환값은 geocode랑 동일\n",
    "# 첫 번째 값 제일 주소와 동일한 주소 -> 해당 코드에서는 첫 번째 값 주소 이름만 반환\n",
    "def google_reverse_geocode(lat,lon):\n",
    "    gmaps = googlemaps.Client(key='your-api-key')\n",
    "    reverse_geocode_result = gmaps.reverse_geocode((lat, lon), language='ko')\n",
    "    \n",
    "    return reverse_geocode_result[0]['formatted_address']"
   ]
  },
  {
   "cell_type": "code",
   "execution_count": 4,
   "metadata": {},
   "outputs": [
    {
     "name": "stdout",
     "output_type": "stream",
     "text": [
      "대한민국 대전광역시 대덕구 오정동 한남로 70\n"
     ]
    }
   ],
   "source": [
    "place_name = google_reverse_geocode(36.3544548, 127.4211446)\n",
    "# input : 위도, 경도 \n",
    "print(place_name)"
   ]
  },
  {
   "cell_type": "markdown",
   "metadata": {},
   "source": [
    "---\n",
    "### Kakao\n",
    "- 기능 : geocode , reverse geocode, keyword, 행정동코드 (direction은 따로 제공하고 있지 않음)\n",
    "- kakao developer https://developers.kakao.com/\n",
    "<br></br>\n",
    "- 가격정책 : Kakao Developers 로컬 10만/일, 300만/월 무료 (이용량 제한- 과금 시스템 따로 없음)"
   ]
  },
  {
   "cell_type": "markdown",
   "metadata": {},
   "source": [
    "```Python```"
   ]
  },
  {
   "cell_type": "markdown",
   "metadata": {},
   "source": [
    "```- geocode```"
   ]
  },
  {
   "cell_type": "code",
   "execution_count": 3,
   "metadata": {},
   "outputs": [],
   "source": [
    "import requests\n",
    "import json\n",
    "\n",
    "### 주소 좌표 반환 \n",
    "def kakao_geocode(address):\n",
    "    url = 'https://dapi.kakao.com/v2/local/search/address.json?query=' + address\n",
    "    headers = {\"Authorization\": \"KakaoAK your-api-key\"}\n",
    "    api_json = json.loads(str(requests.get(url,headers=headers).text))\n",
    "    lon = api_json['documents'][0]['x'] # lon\n",
    "    lat = api_json['documents'][0]['y'] # lat\n",
    "    return [float(lat), float(lon)]"
   ]
  },
  {
   "cell_type": "code",
   "execution_count": 10,
   "metadata": {},
   "outputs": [
    {
     "name": "stdout",
     "output_type": "stream",
     "text": [
      "[36.352799521652, 127.423309425352]\n"
     ]
    }
   ],
   "source": [
    "place = '대전광역시 대덕구 한남로 70'\n",
    "location = kakao_geocode(place)\n",
    "\n",
    "print(location)"
   ]
  },
  {
   "cell_type": "markdown",
   "metadata": {},
   "source": [
    "```- reverse geocode```"
   ]
  },
  {
   "cell_type": "code",
   "execution_count": 4,
   "metadata": {},
   "outputs": [],
   "source": [
    "import requests\n",
    "import json\n",
    "\n",
    "### 좌표가 위치한 지번 주소, 도로명 주소\n",
    "# 반환값 : [지번 주소, 도로명 주소]\n",
    "def kakao_reverse_geocode(lat, lon):\n",
    "    url = f'https://dapi.kakao.com/v2/local/geo/coord2address.json?x={lon}&y={lat}' \n",
    "    headers = {\"Authorization\": \"KakaoAK your-api-key\"}\n",
    "    api_json = json.loads(str(requests.get(url,headers=headers).text))\n",
    "    address = [api_json['documents'][0]['address']['address_name'], api_json['documents'][0]['road_address']['address_name']]\n",
    "    return address"
   ]
  },
  {
   "cell_type": "code",
   "execution_count": 8,
   "metadata": {},
   "outputs": [
    {
     "name": "stdout",
     "output_type": "stream",
     "text": [
      "['대전 대덕구 오정동 133', '대전광역시 대덕구 한남로 70']\n"
     ]
    }
   ],
   "source": [
    "place_name = kakao_reverse_geocode(36.3544548, 127.4211446)\n",
    "\n",
    "print(place_name)"
   ]
  },
  {
   "cell_type": "markdown",
   "metadata": {},
   "source": [
    "```- region code```"
   ]
  },
  {
   "cell_type": "code",
   "execution_count": 5,
   "metadata": {},
   "outputs": [],
   "source": [
    "import requests\n",
    "import json\n",
    "\n",
    "### 좌표가 위치한 법정동,행정동 코드\n",
    "# 반환값 : [법정동 코드, 행정동 코드]\n",
    "def kakao_regioncode(lat, lon):\n",
    "    url = f'https://dapi.kakao.com/v2/local/geo/coord2regioncode.json?x={lon}&y={lat}'\n",
    "    headers = {\"Authorization\": \"KakaoAK your-api-key\"}\n",
    "    api_json = json.loads(str(requests.get(url,headers=headers).text))\n",
    "    code = [api_json['documents'][0]['code'], api_json['documents'][1]['code']] # 법정동, 행정동\n",
    "    return code"
   ]
  },
  {
   "cell_type": "code",
   "execution_count": 10,
   "metadata": {},
   "outputs": [
    {
     "name": "stdout",
     "output_type": "stream",
     "text": [
      "['3023010100', '3023051000']\n"
     ]
    }
   ],
   "source": [
    "location_region_code = kakao_regioncode(36.3544548, 127.4211446)\n",
    "\n",
    "print(location_region_code)"
   ]
  },
  {
   "cell_type": "markdown",
   "metadata": {},
   "source": [
    "```\n",
    "- keyword\n",
    "    - 중심점을 기준으로 radius(meter) 범위의 keyword의 위치 정보를 반환 \n",
    "    - radius가 아닌 격자 형식으로도 가능하다(자세한 내용은 홈페이지 참고).\n",
    "```"
   ]
  },
  {
   "cell_type": "code",
   "execution_count": 14,
   "metadata": {},
   "outputs": [],
   "source": [
    "import requests\n",
    "import json\n",
    "\n",
    "def kakao_keyword(keywords, location, radius_meter=20000, page_num=45):\n",
    "    url = f'https://dapi.kakao.com/v2/local/search/keyword.json?query={keywords}&x={location[\"lon\"]}&y={location[\"lat\"]}&radius={radius_meter}&page={page_num}'\n",
    "    headers = {\"Authorization\": \"KakaoAK your-api-key\"}\n",
    "    api_json = json.loads(str(requests.get(url,headers=headers).text))\n",
    "    return api_json"
   ]
  },
  {
   "cell_type": "code",
   "execution_count": 16,
   "metadata": {},
   "outputs": [
    {
     "name": "stdout",
     "output_type": "stream",
     "text": [
      "{'documents': [{'address_name': '대전 대덕구 중리동 411-2', 'category_group_code': 'FD6', 'category_group_name': '음식점', 'category_name': '음식점 > 한식 > 육류,고기', 'distance': '837', 'id': '8407374', 'phone': '042-672-4288', 'place_name': '일미구이 중리점', 'place_url': 'http://place.map.kakao.com/8407374', 'road_address_name': '대전 대덕구 중리로 14', 'x': '127.425478140755', 'y': '36.3601409714937'}, {'address_name': '대전 대덕구 오정동 172-5', 'category_group_code': 'FD6', 'category_group_name': '음식점', 'category_name': '음식점 > 중식', 'distance': '235', 'id': '1482421525', 'phone': '042-622-7941', 'place_name': '야미마라탕 대전점', 'place_url': 'http://place.map.kakao.com/1482421525', 'road_address_name': '대전 대덕구 한남로 61', 'x': '127.421397385121', 'y': '36.3513383585919'}, {'address_name': '대전 대덕구 오정동 483-6', 'category_group_code': 'FD6', 'category_group_name': '음식점', 'category_name': '음식점 > 한식 > 육류,고기 > 곱창,막창', 'distance': '924', 'id': '8278157', 'phone': '042-673-8266', 'place_name': '구들마루 오정점', 'place_url': 'http://place.map.kakao.com/8278157', 'road_address_name': '대전 대덕구 대전로 1009', 'x': '127.418776091677', 'y': '36.3453169173462'}, {'address_name': '대전 대덕구 중리동 240-22', 'category_group_code': 'FD6', 'category_group_name': '음식점', 'category_name': '음식점 > 중식 > 양꼬치', 'distance': '581', 'id': '224010848', 'phone': '042-621-9492', 'place_name': '마약양꼬치 대전7호점', 'place_url': 'http://place.map.kakao.com/224010848', 'road_address_name': '대전 대덕구 홍도로 123', 'x': '127.427079088908', 'y': '36.3570604603694'}, {'address_name': '대전 대덕구 중리동 245-29', 'category_group_code': 'CE7', 'category_group_name': '카페', 'category_name': '음식점 > 카페', 'distance': '495', 'id': '1838096880', 'phone': '010-3850-7461', 'place_name': '조니커피', 'place_url': 'http://place.map.kakao.com/1838096880', 'road_address_name': '대전 대덕구 홍도로 106', 'x': '127.427623582132', 'y': '36.3555769853827'}, {'address_name': '대전 대덕구 오정동 172-21', 'category_group_code': 'CE7', 'category_group_name': '카페', 'category_name': '음식점 > 카페 > 커피전문점 > 파스쿠찌', 'distance': '191', 'id': '26595354', 'phone': '042-223-8497', 'place_name': '파스쿠찌 대전한남대점', 'place_url': 'http://place.map.kakao.com/26595354', 'road_address_name': '대전 대덕구 한남로 45', 'x': '127.42330321215559', 'y': '36.35107568926579'}, {'address_name': '대전 대덕구 오정동 488-18', 'category_group_code': 'FD6', 'category_group_name': '음식점', 'category_name': '음식점 > 중식 > 중국요리', 'distance': '905', 'id': '1293523836', 'phone': '042-672-2141', 'place_name': '필짬뽕', 'place_url': 'http://place.map.kakao.com/1293523836', 'road_address_name': '대전 대덕구 한남로137번길 43', 'x': '127.41703078126241', 'y': '36.346411639455134'}, {'address_name': '대전 대덕구 오정동 172-3', 'category_group_code': 'CE7', 'category_group_name': '카페', 'category_name': '음식점 > 카페 > 커피전문점 > 할리스', 'distance': '263', 'id': '26469905', 'phone': '070-4109-5800', 'place_name': '할리스 대전한남대점', 'place_url': 'http://place.map.kakao.com/26469905', 'road_address_name': '대전 대덕구 한남로 65', 'x': '127.4210029858666', 'y': '36.35133344057107'}, {'address_name': '대전 동구 용전동 128-20', 'category_group_code': 'CE7', 'category_group_name': '카페', 'category_name': '음식점 > 카페 > 테마카페 > 디저트카페', 'distance': '866', 'id': '1881970497', 'phone': '042-638-3337', 'place_name': '반가워요 오늘', 'place_url': 'http://place.map.kakao.com/1881970497', 'road_address_name': '대전 동구 계족로464번길 6', 'x': '127.43295270161212', 'y': '36.35302369752496'}, {'address_name': '대전 대덕구 오정동 212-7', 'category_group_code': 'CE7', 'category_group_name': '카페', 'category_name': '음식점 > 카페 > 테마카페 > 디저트카페', 'distance': '168', 'id': '739550866', 'phone': '010-8280-5680', 'place_name': '샤르르', 'place_url': 'http://place.map.kakao.com/739550866', 'road_address_name': '대전 대덕구 한남로38번길 31', 'x': '127.42500685958471', 'y': '36.35215105002984'}, {'address_name': '대전 대덕구 오정동 223-272', 'category_group_code': 'FD6', 'category_group_name': '음식점', 'category_name': '음식점 > 술집 > 호프,요리주점', 'distance': '246', 'id': '360204007', 'phone': '042-710-7011', 'place_name': '역전할머니맥주 대전한남대점', 'place_url': 'http://place.map.kakao.com/360204007', 'road_address_name': '대전 대덕구 한남로 26', 'x': '127.425358880544', 'y': '36.3513279274504'}, {'address_name': '대전 동구 홍도동 9-3', 'category_group_code': 'FD6', 'category_group_name': '음식점', 'category_name': '음식점 > 한식 > 육류,고기 > 닭요리 > 삼계탕', 'distance': '904', 'id': '9538155', 'phone': '042-632-5757', 'place_name': '풍년삼계탕', 'place_url': 'http://place.map.kakao.com/9538155', 'road_address_name': '대전 동구 계족로 407', 'x': '127.431503704119', 'y': '36.3480508579142'}, {'address_name': '대전 동구 용전동 145-9', 'category_group_code': 'FD6', 'category_group_name': '음식점', 'category_name': '음식점 > 한식 > 육류,고기 > 닭요리 > 삼계탕', 'distance': '931', 'id': '24960408', 'phone': '042-631-3838', 'place_name': '풍전삼계탕', 'place_url': 'http://place.map.kakao.com/24960408', 'road_address_name': '대전 동구 계족로 414', 'x': '127.432331355794', 'y': '36.3486462456717'}, {'address_name': '대전 동구 홍도동 79-24', 'category_group_code': 'CE7', 'category_group_name': '카페', 'category_name': '음식점 > 카페', 'distance': '447', 'id': '2021860897', 'phone': '070-4038-0512', 'place_name': '진저', 'place_url': 'http://place.map.kakao.com/2021860897', 'road_address_name': '대전 동구 한남로7번길 7', 'x': '127.4277072063528', 'y': '36.35090500547004'}, {'address_name': '대전 대덕구 오정동 175-55', 'category_group_code': 'FD6', 'category_group_name': '음식점', 'category_name': '음식점 > 한식', 'distance': '186', 'id': '10360969', 'phone': '042-628-0322', 'place_name': '마미하우스', 'place_url': 'http://place.map.kakao.com/10360969', 'road_address_name': '대전 대덕구 한남로38번길 14', 'x': '127.424401014195', 'y': '36.3513673802061'}], 'meta': {'is_end': True, 'pageable_count': 45, 'same_name': {'keyword': '맛집', 'region': [], 'selected_region': ''}, 'total_count': 26206}}\n"
     ]
    }
   ],
   "source": [
    "keywords = '맛집'\n",
    "location = {'lat':36.352799521652, 'lon':127.423309425352}\n",
    "\n",
    "keyword_result = kakao_keyword(keywords, location)\n",
    "print(keyword_result)"
   ]
  },
  {
   "cell_type": "markdown",
   "metadata": {},
   "source": [
    "---\n",
    "### Naver \n",
    "- 기능 : geocode, reverse geocode, direction(5, 15) (keyword 검색 미지원)\n",
    "- direction5, direction15 차이는 경유지 추가 가능 갯수 및 자세한 건 홈페이지 참고\n",
    "- direction 기능은 호출 시간 기준이기 때문에 주의!!\n",
    "- naver cloud platform https://www.ncloud.com/?language=ko-KR\n",
    "<br></br>\n",
    "- 가격 정책\n",
    "    - geocode : 무료 3,000,000건/일(월) (그 이상 사용시 0.4원/건 (1,001~10,000,000건/일) | 0.3원/건 (10,000,000건 초과/일))\n",
    "    - reverse geocode : 무료 3,000,000건/일(월) (그 이상 사용시 0.4원/건 (1,001~10,000,000건/일) | 0.3원/건 (10,000,000건 초과/일))\n",
    "    - direction5 : 무료 6,000건/일 | 60,000건/월 (그 이상 사용시 5원/건)\n",
    "    - direction15 : 무료 6,000건/일 | 60,000건/월(그 이상 사용시 20원/건)\n",
    "    - 참고) 카드를 미리 등록하고 이용(무료 서비스 포함)"
   ]
  },
  {
   "cell_type": "markdown",
   "metadata": {},
   "source": [
    "```Python```"
   ]
  },
  {
   "cell_type": "markdown",
   "metadata": {},
   "source": [
    "```- geocode```"
   ]
  },
  {
   "cell_type": "code",
   "execution_count": 7,
   "metadata": {},
   "outputs": [],
   "source": [
    "import json \n",
    "import requests\n",
    "\n",
    "def naver_geocode(place):\n",
    "    client_id = 'your-client-id'\n",
    "    client_secret = 'your-client-scret-key' \n",
    "    query = place\n",
    "    url = f'https://naveropenapi.apigw.ntruss.com/map-geocode/v2/geocode?query={query}'\n",
    "    headers = {'X-NCP-APIGW-API-KEY-ID': client_id,\n",
    "            'X-NCP-APIGW-API-KEY': client_secret}\n",
    "    res= requests.get(url, headers=headers)\n",
    "    data = res.json()\n",
    "    try:\n",
    "        lat = data['addresses'][0]['y']\n",
    "        lon = data['addresses'][0]['x']\n",
    "        return [float(lat), float(lon)]\n",
    "    except:\n",
    "        return []"
   ]
  },
  {
   "cell_type": "code",
   "execution_count": 14,
   "metadata": {},
   "outputs": [
    {
     "name": "stdout",
     "output_type": "stream",
     "text": [
      "[36.3541173, 127.4217991]\n"
     ]
    }
   ],
   "source": [
    "place = '대전광역시 대덕구 한남로 70'\n",
    "location = naver_geocode(place)\n",
    "\n",
    "print(location)"
   ]
  },
  {
   "cell_type": "markdown",
   "metadata": {},
   "source": [
    "```\n",
    "- reverse geocode\n",
    "    - orders : legalcode 법정동 코드 | admcode 행정동 코드 | addr 지번 주소 | roadaddr 도로명 주소 \n",
    "    - 지번 주소, 도로명 주소는 전체 주소를 반환 해주지 않아서.. 쓸모 있는지는 모르겠음\n",
    "    - 대신 도로명 주소 호출은 해당 좌표 시군구 중심좌표,우편번호 얻을 때는 쓸만 할 듯\n",
    "```"
   ]
  },
  {
   "cell_type": "code",
   "execution_count": 8,
   "metadata": {},
   "outputs": [],
   "source": [
    "import json \n",
    "import requests\n",
    "\n",
    "# 행정동, 법정동\n",
    "def naver_region_code(lat, lon):\n",
    "    client_id = 'your-client-id'\n",
    "    client_secret = 'your-client-scret-key' \n",
    "    url = f'https://naveropenapi.apigw.ntruss.com/map-reversegeocode/v2/gc?coords={lon},{lat}&output=json&orders=admcode,legalcode'\n",
    "    headers = {'X-NCP-APIGW-API-KEY-ID': client_id,\n",
    "            'X-NCP-APIGW-API-KEY': client_secret}\n",
    "    res= requests.get(url, headers=headers)\n",
    "    data = res.json()\n",
    "    return [data['results'][0]['code']['id'], data['results'][1]['code']['id']] \n",
    "\n",
    "# 우편번호\n",
    "def naver_zip_code(lat, lon):\n",
    "    client_id = 'your-client-id'\n",
    "    client_secret = 'your-client-scret-key' \n",
    "    url = f'https://naveropenapi.apigw.ntruss.com/map-reversegeocode/v2/gc?coords={lon},{lat}&output=json&orders=roadaddr'\n",
    "    headers = {'X-NCP-APIGW-API-KEY-ID': client_id,\n",
    "            'X-NCP-APIGW-API-KEY': client_secret}\n",
    "    res= requests.get(url, headers=headers)\n",
    "    data = res.json()\n",
    "    return data['results'][0]['land']['addition1']['value']"
   ]
  },
  {
   "cell_type": "code",
   "execution_count": 16,
   "metadata": {},
   "outputs": [
    {
     "name": "stdout",
     "output_type": "stream",
     "text": [
      "['3023051000', '3023010100']\n",
      "34430\n"
     ]
    }
   ],
   "source": [
    "region_code = naver_region_code(36.3541173, 127.4217991)\n",
    "zip_code = naver_zip_code(36.3541173, 127.4217991)\n",
    "\n",
    "print(region_code)\n",
    "print(zip_code)"
   ]
  },
  {
   "cell_type": "markdown",
   "metadata": {},
   "source": [
    "```\n",
    "- direction5\n",
    "    - duration : 마이크로초 (마이크로초 1000 == 1초)\n",
    "    - distance : 미터 \n",
    "    - path : 루트(경로 좌표 데이터)\n",
    "    - 나머지 생략...\n",
    "```"
   ]
  },
  {
   "cell_type": "code",
   "execution_count": 1,
   "metadata": {},
   "outputs": [],
   "source": [
    "import json\n",
    "import requests\n",
    "\n",
    "# O :[lat, lon] | D :[lat,lon]\n",
    "def naver_direction(O, D): \n",
    "    client_id = 'your-client-id'\n",
    "    client_secret = 'your-client-scret-key' \n",
    "    url = f\"https://naveropenapi.apigw.ntruss.com/map-direction/v1/driving?start={O[1]},{O[0]}&goal={D[1]},{D[0]}\"\n",
    "    headers = {'X-NCP-APIGW-API-KEY-ID': client_id,\n",
    "            'X-NCP-APIGW-API-KEY': client_secret}\n",
    "    res= requests.get(url, headers=headers)\n",
    "    data = res.json()\n",
    "    \n",
    "    if not('route' in data.keys()):\n",
    "        return {}\n",
    "    \n",
    "    distance = data['route']['traoptimal'][0]['summary']['distance']\n",
    "    duration = data['route']['traoptimal'][0]['summary']['duration']\n",
    "    route = data['route']['traoptimal'][0]['path']\n",
    "    return {'distance':distance, 'duration':duration, 'route':route}"
   ]
  },
  {
   "cell_type": "code",
   "execution_count": 18,
   "metadata": {},
   "outputs": [],
   "source": [
    "O = [36.352799521652, 127.423309425352] # 한남대학교\n",
    "D = [36.3512760051536, 127.437518299333] # 대전복합터미널\n",
    "\n",
    "data = naver_direction(O,D)"
   ]
  },
  {
   "cell_type": "markdown",
   "metadata": {},
   "source": [
    "### Tmap\n",
    "- 기능 : geocode, reverse geocode, POI(keyword 검색),direction(현재, 과거, 보행자, 화물차)\n",
    "<br></br>\n",
    "- 가격정책 (정액제, 종량제)\n",
    "    - geocode : 무료 20,000건/일(종량제 0.55원/건)\n",
    "    - geofencing : \n",
    "    - reverse geocode : 무료 20,000건/일(종량제 0.55원/건)\n",
    "    - POI 검색 : 무료 20,000건/일(종량제 1.1원/건)\n",
    "    - 경로 안내(direction) : 무료 1,000건/일 (종량제 11원/건)\n",
    "        - 자동차 경로안내\n",
    "        - 보행자 경로안내\n",
    "        - 타임머신 경로안내\n",
    "        - 화물차 경로안내"
   ]
  },
  {
   "cell_type": "markdown",
   "metadata": {},
   "source": [
    "```- reverse geocode```"
   ]
  },
  {
   "cell_type": "code",
   "execution_count": 10,
   "metadata": {},
   "outputs": [],
   "source": [
    "import requests\n",
    "import json \n",
    "\n",
    "# address [행정동주소, 법정동주소, 도로명주소], region_code [행정동코드, 법정동코드]\n",
    "def tmap_reverse_geocode(lat, lon):\n",
    "    url = f\"https://apis.openapi.sk.com/tmap/geo/reversegeocoding?version=1&lat={lat}&lon={lon}&coordType=WGS84GEO&addressType=A10&newAddressExtend=Y\"\n",
    "\n",
    "    headers = {\n",
    "        \"Accept\": \"application/json\",\n",
    "        \"appKey\": \"your-appkey\"\n",
    "    }\n",
    "\n",
    "    response = requests.get(url, headers=headers)\n",
    "    res = json.loads(response.text)\n",
    "    address = res['addressInfo']['fullAddress'].split(',')\n",
    "    region_code = [res['addressInfo']['adminDongCode'], res['addressInfo']['legalDongCode']]\n",
    "    return address, region_code"
   ]
  },
  {
   "cell_type": "code",
   "execution_count": 167,
   "metadata": {},
   "outputs": [
    {
     "name": "stdout",
     "output_type": "stream",
     "text": [
      "(['대전광역시 대덕구 오정동', '대전광역시 대덕구 오정동 133', '대전광역시 대덕구 한남로 70 한남대학교'], ['3023051000', '3023010100'])\n"
     ]
    }
   ],
   "source": [
    "result = tmap_reverse_geocode(36.352799521652, 127.423309425352)\n",
    "\n",
    "print(result)"
   ]
  },
  {
   "cell_type": "markdown",
   "metadata": {},
   "source": [
    "```- direction```"
   ]
  },
  {
   "cell_type": "code",
   "execution_count": 2,
   "metadata": {},
   "outputs": [],
   "source": [
    "import requests\n",
    "import json\n",
    "\n",
    "def tmap_direction_result_process(result):\n",
    "    routes  = []\n",
    "\n",
    "    for idx, i in enumerate(result['features']):\n",
    "        if idx == 0:\n",
    "            duration = i['properties']['totalTime']\n",
    "            distance = i['properties']['totalDistance']\n",
    "        if i['geometry']['type']  == 'LineString':\n",
    "            routes.extend(i['geometry']['coordinates'])\n",
    "    return duration, distance, routes\n",
    "\n",
    "def tmap_past_direction(O, D, yymmdd, hour, min):\n",
    "    O_lat, O_lon = O[0], O[1]    \n",
    "    D_lat, D_lon = D[0], D[1]\n",
    "    \n",
    "    url = \"https://apis.openapi.sk.com/tmap/routes/prediction?version=1&resCoordType=WGS84GEO&reqCoordType=WGS84GEO&sort=index&callback=function\"\n",
    "\n",
    "    payload = {\"routesInfo\": {\n",
    "            \"departure\": {\n",
    "                \"name\": \"test1\",\n",
    "                \"lon\": f\"{O_lon}\",\n",
    "                \"lat\": f\"{O_lat}\",\n",
    "                \"depSearchFlag\": \"03\"\n",
    "            },\n",
    "            \"destination\": {\n",
    "                \"name\": \"test2\",\n",
    "                \"lon\": f\"{D_lon}\",\n",
    "                \"lat\": f\"{D_lat}\",\n",
    "                \"poiId\": \"1000559885\",\n",
    "                \"rpFlag\": \"16\",\n",
    "                \"destSearchFlag\": \"03\"\n",
    "            },\n",
    "            \"predictionType\": \"departure\",\n",
    "            \"predictionTime\": f\"{yymmdd}T{hour}:{min}:00+0900\",\n",
    "            \"searchOption\": \"00\",\n",
    "            \"tollgateCarType\": \"car\",\n",
    "            \"trafficInfo\": \"N\"\n",
    "        }}\n",
    "    headers = {\n",
    "        \"Accept\": \"application/json\",\n",
    "        \"Content-Type\": \"application/json\",\n",
    "        \"appKey\": \"your-appkey\"\n",
    "    }\n",
    "    response = requests.post(url, json=payload, headers=headers)\n",
    "    response = json.loads(response.text)\n",
    "    if not('features' in response.keys()):\n",
    "        return {}\n",
    "    duration, distance, routes = tmap_direction_result_process(response)\n",
    "    return {'duration':duration, 'distance':distance, 'routes':routes}"
   ]
  },
  {
   "cell_type": "code",
   "execution_count": 27,
   "metadata": {},
   "outputs": [
    {
     "name": "stdout",
     "output_type": "stream",
     "text": [
      "{'duration': 382, 'distance': 2881, 'routes': [[127.4233312000267, 36.352938747730384], [127.42314788165088, 36.352991516209734], [127.42273680518322, 36.353069277779205], [127.42189243073021, 36.35327201734197], [127.42172022269875, 36.353316453639195], [127.42155912478502, 36.35336089013394], [127.42155912478502, 36.35336089013394], [127.42156467946656, 36.35337477753227], [127.42157023384627, 36.35339977477025], [127.4215674556377, 36.353424771860105], [127.42155912237028, 36.3534497688512], [127.42153967913612, 36.35346921072495], [127.42151745837255, 36.35348865254934], [127.42149246030591, 36.35349976194459], [127.42146468486081, 36.35350531637065], [127.42143413203719, 36.353505315827505], [127.42143413203719, 36.353505315827505], [127.42143412675493, 36.35369973802145], [127.42142023224082, 36.3539524866266], [127.42138132434083, 36.35478016898863], [127.42136465184417, 36.35504958230347], [127.4213590921819, 36.35521900725907], [127.42135909150271, 36.35524400439824], [127.42135909150271, 36.35524400439824], [127.42158407153616, 36.355238453478144], [127.4227395169804, 36.35548844541228], [127.4232894655405, 36.35557177898732], [127.42357555008921, 36.35560789105266], [127.42357555008921, 36.35560789105266], [127.42356720225477, 36.35616893780575], [127.4235699763877, 36.35629392355089], [127.42353940099586, 36.35712438351895], [127.42353940099586, 36.35712438351895], [127.42352272193078, 36.357635435844486], [127.42349771020163, 36.358149265481394], [127.42347269605662, 36.35875197383461], [127.42347269605662, 36.35875197383461], [127.42398931614883, 36.35876587032027], [127.42489201237602, 36.35879643843076], [127.42531697407365, 36.35880755582718], [127.42545307293923, 36.35881033570726], [127.42559750439304, 36.358813115735536], [127.42571138302335, 36.358815895220516], [127.42694460464749, 36.35886868888935], [127.42716125186614, 36.358871470202075], [127.42896664500378, 36.358907609289005], [127.43068315689995, 36.35895485663715], [127.43126088256605, 36.35897153167247], [127.43187193820783, 36.35900209460045], [127.43217746606655, 36.3590159873346], [127.43221079641961, 36.35901598792747], [127.43223579418441, 36.35901598837213], [127.43237189305053, 36.35901876825293], [127.43245244155479, 36.35901321476591], [127.4324968823276, 36.35900210571679], [127.4325468783858, 36.35898266438677], [127.43261631790513, 36.35893544880354], [127.43283296980658, 36.35876602760299], [127.4328774113346, 36.35872714395481], [127.43314128244462, 36.3585132842356], [127.4332246102908, 36.358441071760204], [127.43404677871087, 36.35771616934832], [127.43422176706726, 36.357568967085676], [127.43476895320288, 36.35709680863378], [127.4348078395211, 36.35706347980652], [127.43487727941827, 36.3570023769236], [127.43603275824495, 36.356024731586764], [127.43721323476325, 36.35504986415328], [127.437690980853, 36.35464436350277], [127.43814928385939, 36.3542527498058], [127.43821316854701, 36.35419720174369], [127.43821316854701, 36.35419720174369], [127.4382714990064, 36.35411110152349], [127.43828538763536, 36.35407499479146], [127.43829094352493, 36.35404444283104], [127.43829094458215, 36.354005558392], [127.43827983574813, 36.35395834137551], [127.43782155365909, 36.35358059867174], [127.43721606507614, 36.353108419711624], [127.43669667922588, 36.352661239422766], [127.43660502415177, 36.35253625209524], [127.43658836003215, 36.352497367359696], [127.43656891853408, 36.35245292765487], [127.43655503269893, 36.35238626836938], [127.43654670109214, 36.352350161242], [127.4365689241214, 36.35224739561962], [127.43668003239678, 36.351986316361845], [127.43669947638648, 36.35193909988875], [127.43677725181684, 36.35176967621594], [127.43689391379203, 36.35155859133569], [127.43715501469808, 36.35107531795032]]}\n"
     ]
    }
   ],
   "source": [
    "# time (초), distance (미터)\n",
    "O = [36.352799521652, 127.423309425352] # 한남대학교d\n",
    "D = [36.3512760051536, 127.437518299333] # 대전복합터미널\n",
    "yymmdd = '2018-01-02'\n",
    "hour = '02'\n",
    "min = '14'\n",
    "\n",
    "result = tmap_past_direction(O, D, yymmdd, hour, min)\n",
    "print(result)"
   ]
  },
  {
   "cell_type": "markdown",
   "metadata": {},
   "source": [
    "---"
   ]
  }
 ],
 "metadata": {
  "kernelspec": {
   "display_name": "Python 3.8.10 64-bit",
   "language": "python",
   "name": "python3"
  },
  "language_info": {
   "codemirror_mode": {
    "name": "ipython",
    "version": 3
   },
   "file_extension": ".py",
   "mimetype": "text/x-python",
   "name": "python",
   "nbconvert_exporter": "python",
   "pygments_lexer": "ipython3",
   "version": "3.8.10"
  },
  "orig_nbformat": 4,
  "vscode": {
   "interpreter": {
    "hash": "52634da84371cba311ea128a5ea7cdc41ff074b781779e754b270ff9f8153cee"
   }
  }
 },
 "nbformat": 4,
 "nbformat_minor": 2
}
